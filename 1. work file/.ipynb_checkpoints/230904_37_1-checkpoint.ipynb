{
 "cells": [
  {
   "cell_type": "markdown",
   "id": "dcf61b85",
   "metadata": {},
   "source": [
    "### 1~9까지 3x3의 (+)(x)십자엑스방향으로 더했을 때 각 방향 전부 15가 나오개 해야한다.(마방진)"
   ]
  },
  {
   "cell_type": "code",
   "execution_count": 23,
   "id": "57f6c6c0",
   "metadata": {},
   "outputs": [
    {
     "name": "stdout",
     "output_type": "stream",
     "text": [
      "몇 마방진을 생성하시겠습니까?: 5\n",
      " 17  24   1   8  15 \n",
      " 23   5   7  14  16 \n",
      "  4   6  13  20  22 \n",
      " 10  12  19  21   3 \n",
      " 11  18  25   2   9 \n"
     ]
    }
   ],
   "source": [
    "mabangjin = []\n",
    "ma = int(input('몇 마방진을 생성하시겠습니까?: '))\n",
    "\n",
    "# 입력된 수치 만큼\n",
    "for i in range(ma):\n",
    "    mabangjin.append([])\n",
    "\n",
    "    for j in range(ma):\n",
    "        mabangjin[i].append(0)\n",
    "    \n",
    "x = 0\n",
    "y = int((ma-1) / 2)\n",
    "\n",
    "for cnt in range(1, ma*ma+1):\n",
    "    mabangjin[x][y] = cnt\n",
    "    x = x - 1\n",
    "    y = y + 1\n",
    "    \n",
    "    # 4가지 조건 \n",
    "    if x < 0 and y >= ma:\n",
    "        x = x + 2\n",
    "        y = y - 1\n",
    "    elif x < 0:\n",
    "        x = ma - 1\n",
    "    elif y == ma:   \n",
    "        y = 0\n",
    "    elif mabangjin[x][y] != 0:\n",
    "        x = x + 2\n",
    "        y = y - 1\n",
    "\n",
    "for i in range(ma):    \n",
    "    for j in range(ma):\n",
    "        print(\"{:3d}\".format(mabangjin[i][j]), end = ' ')\n",
    "    print()\n",
    "    "
   ]
  },
  {
   "cell_type": "code",
   "execution_count": null,
   "id": "c12952f3",
   "metadata": {},
   "outputs": [],
   "source": []
  }
 ],
 "metadata": {
  "kernelspec": {
   "display_name": "Python 3 (ipykernel)",
   "language": "python",
   "name": "python3"
  },
  "language_info": {
   "codemirror_mode": {
    "name": "ipython",
    "version": 3
   },
   "file_extension": ".py",
   "mimetype": "text/x-python",
   "name": "python",
   "nbconvert_exporter": "python",
   "pygments_lexer": "ipython3",
   "version": "3.11.4"
  }
 },
 "nbformat": 4,
 "nbformat_minor": 5
}
