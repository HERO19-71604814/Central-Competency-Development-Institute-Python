{
 "cells": [
  {
   "cell_type": "code",
   "execution_count": 4,
   "id": "c9e90579",
   "metadata": {},
   "outputs": [],
   "source": [
    "from selenium import webdriver\n",
    "from selenium.webdriver.common.by import By\n",
    "from selenium.webdriver.common.keys import Keys\n",
    "import time\n",
    "driver = webdriver.Chrome()\n",
    "url = \"https://www.opinet.co.kr/user/main/mainView.do\"\n",
    "driver.get(url)\n",
    "time.sleep(2)\n",
    "driver.find_element(By.XPATH, '//*[@id=\"quick_ul\"]/li[2]/a/span').click()\n",
    "time.sleep(3)\n",
    "driver.find_element(By.XPATH, '//*[@id=\"SIDO_NM0\"]/option[7]').click()\n",
    "time.sleep(1)\n",
    "for i in range(2, 7):\n",
    "    driver.find_element(By.XPATH, '//*[@id=\"SIGUNGU_NM0\"]/option['+str(i)+']').click()\n",
    "    \n"
   ]
  }
 ],
 "metadata": {
  "kernelspec": {
   "display_name": "Python 3 (ipykernel)",
   "language": "python",
   "name": "python3"
  },
  "language_info": {
   "codemirror_mode": {
    "name": "ipython",
    "version": 3
   },
   "file_extension": ".py",
   "mimetype": "text/x-python",
   "name": "python",
   "nbconvert_exporter": "python",
   "pygments_lexer": "ipython3",
   "version": "3.11.4"
  }
 },
 "nbformat": 4,
 "nbformat_minor": 5
}
